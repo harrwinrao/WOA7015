{
  "nbformat": 4,
  "nbformat_minor": 0,
  "metadata": {
    "colab": {
      "provenance": [],
      "gpuType": "T4",
      "include_colab_link": true
    },
    "kernelspec": {
      "name": "python3",
      "display_name": "Python 3"
    },
    "language_info": {
      "name": "python"
    },
    "accelerator": "GPU"
  },
  "cells": [
    {
      "cell_type": "markdown",
      "metadata": {
        "id": "view-in-github",
        "colab_type": "text"
      },
      "source": [
        "<a href=\"https://colab.research.google.com/github/harrwinrao/WOA7015/blob/main/Assignment2.ipynb\" target=\"_parent\"><img src=\"https://colab.research.google.com/assets/colab-badge.svg\" alt=\"Open In Colab\"/></a>"
      ]
    },
    {
      "cell_type": "markdown",
      "source": [
        "# Instruction\n",
        "Read the following text and perform the following code. Every code is self-explainatory."
      ],
      "metadata": {
        "id": "teww6eLMd-Zk"
      }
    },
    {
      "cell_type": "markdown",
      "source": [
        "#Linear Regression\n",
        "\n",
        "is an approach that tries to find a linear relationship between a dependent variable and an independent variable by minimizing the distance as shown below.\n",
        "\n",
        "In this colab, we will learn how to implement a simple linear regression model using PyTorch.\n",
        "\n",
        "Let’s consider a very basic linear equation i.e., y=2x+1. Here, ‘x’ is the independent variable and y is the dependent variable. We’ll use this equation to create a dummy dataset which will be used to train this linear regression model. Following is the code for creating the dataset."
      ],
      "metadata": {
        "id": "Uw8QfCiI28sC"
      }
    },
    {
      "cell_type": "code",
      "source": [
        "import numpy as np\n",
        "# create dummy data for training\n",
        "x_values = [i for i in range(11)]\n",
        "x_train = np.array(x_values, dtype=np.float32)\n",
        "x_train = x_train.reshape(-1, 1)\n",
        "\n",
        "y_values = [2*i + 1 for i in x_values]\n",
        "y_train = np.array(y_values, dtype=np.float32)\n",
        "y_train = y_train.reshape(-1, 1)"
      ],
      "metadata": {
        "id": "plyJbABU3LLo"
      },
      "execution_count": 2,
      "outputs": []
    },
    {
      "cell_type": "markdown",
      "source": [
        "Once we have created the dataset, we can start writing the code for our model. First thing will be to define the model architecture. We do that using the following piece of code."
      ],
      "metadata": {
        "id": "saEfyiM43Kr3"
      }
    },
    {
      "cell_type": "code",
      "source": [
        "import torch\n",
        "from torch.autograd import Variable\n",
        "class linearRegression(torch.nn.Module):\n",
        "    def __init__(self, inputSize, outputSize):\n",
        "        super(linearRegression, self).__init__()\n",
        "        self.linear = torch.nn.Linear(inputSize, outputSize)\n",
        "\n",
        "    def forward(self, x):\n",
        "        out = self.linear(x)\n",
        "        return out"
      ],
      "metadata": {
        "id": "H8G8dA5u3NWS"
      },
      "execution_count": 3,
      "outputs": []
    },
    {
      "cell_type": "markdown",
      "source": [
        "We defined a class for linear regression, that inherits torch.nn.Module which is the basic Neural Network module containing all the required functions. Our Linear Regression model only contains one simple linear function.\n",
        "\n",
        "Next, we instantiate the model using the following code."
      ],
      "metadata": {
        "id": "cv8E4ORN3PKf"
      }
    },
    {
      "cell_type": "code",
      "source": [
        "in_feature_size = 1       # takes variable 'x' - 1 features\n",
        "out_feature_size= 1       # takes variable 'y'\n",
        "learningRate = 0.01\n",
        "epochs = 100\n",
        "\n",
        "model = linearRegression(in_feature_size, out_feature_size)\n",
        "##### For GPU #######\n",
        "if torch.cuda.is_available():\n",
        "    model.cuda()"
      ],
      "metadata": {
        "id": "8jb4Hk1C3Qle"
      },
      "execution_count": null,
      "outputs": []
    },
    {
      "cell_type": "markdown",
      "source": [
        "After that, we initialize the loss (Mean Squared Error) and optimization (Adam) functions that we’ll use in the training of this model."
      ],
      "metadata": {
        "id": "NnIq2K3s3PPF"
      }
    },
    {
      "cell_type": "code",
      "source": [
        "criterion = torch.nn.MSELoss()\n",
        "optimizer = torch.optim.Adam(model.parameters(), lr=learningRate)"
      ],
      "metadata": {
        "id": "2ZYdJuZX3S6q"
      },
      "execution_count": null,
      "outputs": []
    },
    {
      "cell_type": "markdown",
      "source": [
        "After completing all the initializations, we can now begin to train our model. Following is the code for training the model."
      ],
      "metadata": {
        "id": "ukTs1n8v3UGr"
      }
    },
    {
      "cell_type": "code",
      "source": [
        "training_loss = []\n",
        "\n",
        "for epoch in range(epochs):\n",
        "    # Converting inputs and labels to Variable\n",
        "    if torch.cuda.is_available():\n",
        "        inputs = Variable(torch.from_numpy(x_train).cuda())\n",
        "        labels = Variable(torch.from_numpy(y_train).cuda())\n",
        "    else:\n",
        "        inputs = Variable(torch.from_numpy(x_train))\n",
        "        labels = Variable(torch.from_numpy(y_train))\n",
        "\n",
        "    # Clear gradient buffers because we don't want any gradient from previous epoch to carry forward, dont want to cummulate gradients\n",
        "    optimizer.zero_grad()\n",
        "\n",
        "    # get output from the model, given the inputs\n",
        "    outputs = model(inputs)\n",
        "\n",
        "    # get loss for the predicted output\n",
        "    loss = criterion(outputs, labels)\n",
        "    # get gradients w.r.t to parameters\n",
        "    loss.backward()\n",
        "\n",
        "    # update parameters\n",
        "    optimizer.step()\n",
        "\n",
        "    print('epoch {}, loss {}'.format(epoch, loss.item()))\n",
        "\n",
        "    training_loss.append(loss.item())"
      ],
      "metadata": {
        "id": "Fh_ngRxc3VY8"
      },
      "execution_count": null,
      "outputs": []
    },
    {
      "cell_type": "markdown",
      "source": [
        "Let's look at the loss curve"
      ],
      "metadata": {
        "id": "_hFeNxZNI9kQ"
      }
    },
    {
      "cell_type": "code",
      "source": [
        "import matplotlib.pyplot as plt\n",
        "\n",
        "plt.plot(np.arange(epochs), training_loss)\n",
        "plt.xlabel('epoch')\n",
        "plt.ylabel('training loss')"
      ],
      "metadata": {
        "id": "gcdlkKgyI_6V"
      },
      "execution_count": null,
      "outputs": []
    },
    {
      "cell_type": "markdown",
      "source": [
        "Now that our Linear Regression Model is trained, let’s test it. Since it’s a very trivial model, we’ll test this on our existing dataset and also plot to see the original vs the predicted outputs."
      ],
      "metadata": {
        "id": "b7HizLNp3WnJ"
      }
    },
    {
      "cell_type": "code",
      "source": [
        "with torch.no_grad(): # we don't need gradients in the testing phase\n",
        "    if torch.cuda.is_available():\n",
        "        predicted = model(Variable(torch.from_numpy(x_train).cuda())).cpu().data.numpy()\n",
        "    else:\n",
        "        predicted = model(Variable(torch.from_numpy(x_train))).data.numpy()\n",
        "    print(predicted)\n",
        "\n",
        "plt.clf()\n",
        "plt.plot(x_train, y_train, 'go', label='True data', alpha=0.5)\n",
        "plt.plot(x_train, predicted, '--', label='Predictions', alpha=0.5)\n",
        "plt.legend(loc='best')\n",
        "plt.xlabel('x')\n",
        "plt.ylabel('y')\n",
        "plt.show()"
      ],
      "metadata": {
        "id": "pOVuaOql3Xy8"
      },
      "execution_count": null,
      "outputs": []
    },
    {
      "cell_type": "code",
      "source": [
        "# to infer y when x = 7\n",
        "\n",
        "x_infer = np.array([7], dtype=np.float32)\n",
        "x_infer = x_infer.reshape(-1, 1)\n",
        "\n",
        "with torch.no_grad(): # we don't need gradients in the testing phase\n",
        "    if torch.cuda.is_available():\n",
        "        predicted = model(Variable(torch.from_numpy(x_infer).cuda())).cpu().data.numpy()\n",
        "    else:\n",
        "        predicted = model(Variable(torch.from_numpy(x_infer))).data.numpy()\n",
        "    print('when x = 7, y = ', predicted)"
      ],
      "metadata": {
        "colab": {
          "base_uri": "https://localhost:8080/"
        },
        "id": "sGuIEXQMOg6j",
        "outputId": "587219dd-c020-4059-cfa5-d6cfb9121f0f"
      },
      "execution_count": null,
      "outputs": [
        {
          "output_type": "stream",
          "name": "stdout",
          "text": [
            "when x = 7, y =  [[15.010226]]\n"
          ]
        }
      ]
    },
    {
      "cell_type": "code",
      "source": [
        "# print the weight\n",
        "\n",
        "for param in model.parameters():\n",
        "  print(param.data)"
      ],
      "metadata": {
        "id": "k5np4uBqKWoJ"
      },
      "execution_count": null,
      "outputs": []
    },
    {
      "cell_type": "markdown",
      "source": [
        "# Check\n",
        "1. Are the weight obtained are m = 2, c = 1?\n",
        "2. If no, this means that your model have not finish training, you can also check from the loss curve above, does the loss still going down?\n",
        "3. If the error is still going now, try using larger epoch (train longer). Check the model.parameters.\n",
        "4. You should be able to get the model parameters of [2, 1] when you use epoch = 1000."
      ],
      "metadata": {
        "id": "Z5mh8FezeRVq"
      }
    },
    {
      "cell_type": "markdown",
      "source": [
        "Looks like our model has correctly figured out the linear relation between our dependent and independent variables.\n",
        "\n",
        "If you have understood this, you should try and train a linear regression model for a little more complex linear equation with multiple independent variables."
      ],
      "metadata": {
        "id": "2eGZVMRs3ZwF"
      }
    },
    {
      "cell_type": "markdown",
      "source": [
        "#Reference\n",
        "\n",
        "Credit to Asad Mahmood.\n",
        "https://towardsdatascience.com/linear-regression-with-pytorch-eb6dedead817"
      ],
      "metadata": {
        "id": "jnwY2Atj3aXJ"
      }
    },
    {
      "cell_type": "markdown",
      "source": [
        "# Now  is your turn.\n",
        "\n",
        "Create a linear regression model using the following data.\n",
        "\n",
        "\n",
        "Observe the loss value and compare the weight obtained with the true weight [0.052, 29.21]"
      ],
      "metadata": {
        "id": "DLkZJOh4JYKp"
      }
    },
    {
      "cell_type": "code",
      "source": [
        "x_values = [i for i in range(30)]\n",
        "x = np.array(x_values, dtype=np.float32)\n",
        "x = x.reshape(-1, 1)\n",
        "\n",
        "y_values = [0.052*i + 29.21  for i in x_values] + np.random.normal(0,0.1,30)\n",
        "y = np.array(y_values, dtype=np.float32)\n",
        "y = y.reshape(-1, 1)\n",
        "\n",
        "plt.plot(x, y, '.')"
      ],
      "metadata": {
        "id": "4pLkpPeqJtZq",
        "colab": {
          "base_uri": "https://localhost:8080/",
          "height": 447
        },
        "outputId": "f54b41fe-4941-4715-82ce-d64ef5877835"
      },
      "execution_count": null,
      "outputs": [
        {
          "output_type": "execute_result",
          "data": {
            "text/plain": [
              "[<matplotlib.lines.Line2D at 0x7d5856a8a0e0>]"
            ]
          },
          "metadata": {},
          "execution_count": 22
        },
        {
          "output_type": "display_data",
          "data": {
            "text/plain": [
              "<Figure size 640x480 with 1 Axes>"
            ],
            "image/png": "[encoded data removed]"
          },
          "metadata": {}
        }
      ]
    },
    {
      "cell_type": "code",
      "source": [
        "# your code here"
      ],
      "metadata": {
        "id": "LbN8hA8WKFN9"
      },
      "execution_count": null,
      "outputs": []
    },
    {
      "cell_type": "code",
      "source": [
        "#@title Solution\n",
        "import torch\n",
        "from torch.autograd import Variable\n",
        "class linearRegression(torch.nn.Module):\n",
        "    def __init__(self, inputSize, outputSize):\n",
        "        super(linearRegression, self).__init__()\n",
        "        self.linear = torch.nn.Linear(inputSize, outputSize)\n",
        "\n",
        "    def forward(self, x):\n",
        "        out = self.linear(x)\n",
        "\n",
        "        return out\n",
        "\n",
        "\n",
        "inputDim = 1       # takes variable 'x' - 10 features\n",
        "outputDim = 1       # takes variable 'y'\n",
        "learningRate = 0.1\n",
        "epochs = 1500\n",
        "\n",
        "model = linearRegression(inputDim, outputDim)\n",
        "##### For GPU #######\n",
        "if torch.cuda.is_available():\n",
        "    model.cuda()\n",
        "\n",
        "\n",
        "criterion = torch.nn.MSELoss()\n",
        "optimizer = torch.optim.Adam(model.parameters(), lr=learningRate)\n",
        "\n",
        "\n",
        "training_loss = []\n",
        "\n",
        "for epoch in range(epochs):\n",
        "    # Converting inputs and labels to Variable\n",
        "    if torch.cuda.is_available():\n",
        "        inputs = Variable(torch.from_numpy(x).cuda())\n",
        "        labels = Variable(torch.from_numpy(y).cuda())\n",
        "    else:\n",
        "        inputs = Variable(torch.from_numpy(x))\n",
        "        labels = Variable(torch.from_numpy(y))\n",
        "\n",
        "    # Clear gradient buffers because we don't want any gradient from previous epoch to carry forward, dont want to cummulate gradients\n",
        "    optimizer.zero_grad()\n",
        "\n",
        "    # get output from the model, given the inputs\n",
        "    outputs = model(inputs)\n",
        "\n",
        "    # get loss for the predicted output\n",
        "    loss = criterion(outputs, labels)\n",
        "    # get gradients w.r.t to parameters\n",
        "    loss.backward()\n",
        "\n",
        "    # update parameters\n",
        "    optimizer.step()\n",
        "\n",
        "    print('epoch {}, loss {}'.format(epoch, loss.item()))\n",
        "\n",
        "    training_loss.append(loss.item())\n",
        "\n",
        "\n"
      ],
      "metadata": {
        "cellView": "form",
        "id": "kdnxHjKuKJLR"
      },
      "execution_count": null,
      "outputs": []
    },
    {
      "cell_type": "code",
      "source": [
        "#@title Default title text\n",
        "with torch.no_grad(): # we don't need gradients in the testing phase\n",
        "    if torch.cuda.is_available():\n",
        "        predicted = model(Variable(torch.from_numpy(x).cuda())).cpu().data.numpy()\n",
        "    else:\n",
        "        predicted = model(Variable(torch.from_numpy(x))).data.numpy()\n",
        "\n",
        "plt.clf()\n",
        "plt.plot(x, y, 'go', label='True data', alpha=0.5)\n",
        "plt.plot(x, predicted, '--', label='Predictions', alpha=0.5)\n",
        "plt.legend(loc='best')\n",
        "plt.xlabel('x')\n",
        "plt.ylabel('y')\n",
        "plt.show()"
      ],
      "metadata": {
        "cellView": "form",
        "id": "ljJqhv6oOYLj"
      },
      "execution_count": null,
      "outputs": []
    },
    {
      "cell_type": "code",
      "source": [
        "#@title Default title text\n",
        "# print the weight\n",
        "for param in model.parameters():\n",
        "  print(param.data)"
      ],
      "metadata": {
        "cellView": "form",
        "id": "JSG9ennYO72v"
      },
      "execution_count": null,
      "outputs": []
    },
    {
      "cell_type": "markdown",
      "source": [
        "# Reference\n",
        "\n",
        "1.   https://machinelearningmastery.com/building-a-logistic-regression-classifier-in-pytorch/\n",
        "2.   https://machinelearningmastery.com/training-a-linear-regression-model-in-pytorch/\n",
        "3.   https://pytorch.org/tutorials/beginner/nlp/deep_learning_tutorial.html\n",
        "\n",
        "\n"
      ],
      "metadata": {
        "id": "r9_BHa9IfJqt"
      }
    }
  ]
}